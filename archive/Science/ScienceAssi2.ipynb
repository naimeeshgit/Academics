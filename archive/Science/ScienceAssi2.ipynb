{
  "nbformat": 4,
  "nbformat_minor": 0,
  "metadata": {
    "colab": {
      "name": "ScienceAssi2.ipynb",
      "provenance": [],
      "collapsed_sections": []
    },
    "kernelspec": {
      "name": "python3",
      "display_name": "Python 3"
    },
    "language_info": {
      "name": "python"
    }
  },
  "cells": [
    {
      "cell_type": "markdown",
      "source": [
        "# 2-D Diffusion\n",
        "## Question - 1.2.1 \n",
        "$$\\frac{\\partial u(x, y, t)}{\\partial t} = D \\Bigg(\\frac{\\partial^2 u(x, y, t)}{\\partial x^2} + \\frac{\\partial^2 u(x, y, t)}{\\partial y^2}\\Bigg)$$\n",
        "\n",
        "Where D is the diffusivity of the metal\n",
        "\n",
        "## Question 1.2.2\n",
        "Assuming we need Forward-Euler form (hence taking $\\theta = 0$)\n",
        "Suppose we sample a point $(x, y)$ at time $t$. If we apply the finite difference approximation on the partial derivative at this point, we end up with\n",
        "\n",
        "$$ \\frac{u_{x, y, t + 1} - u_{x, y, t}}{\\Delta t} = D\\Bigg(\\frac{u_{x - 1, y, t} - 2\\cdot u_{x, y, t} + u_{x + 1, y, t}}{\\Delta x^2} + \\frac{u_{x, y - 1, t} - 2\\cdot u_{x, y, t} + u_{x, y + 1, t}}{\\Delta y^2}\\Bigg)$$\n",
        "\n",
        "Taking $F_x = \\frac{D \\Delta t}{\\Delta x^2},\\ F_y = \\frac{D \\Delta t}{\\Delta y^2}$, we get\n",
        "\n",
        "$$ u_{x, y, t + 1} = F_x(u_{x - 1, y, t} - 2 \\cdot u_{x, y, t} + u_{x + 1, t}) + F_y(u_{x, y - 1, t} - 2 \\cdot u_{x, y, t} + u_{x, y + 1, t})$$\n",
        "\n",
        "## Question 1.2.3\n",
        "We can assume that the step value of $x$ and $y$ are the same, hence $\\Delta x = \\Delta y = h$.\n",
        "\n",
        "We can rearrange the terms of the above equation to get\n",
        "\n",
        "$$ u_{x, y, t + 1} = k(u_{x - 1, y, t} + u_{x + 1, t} + u_{x, y - 1, t} + u_{x, y + 1, t}  - 4 \\cdot u_{x, y, t}) + u_{x, y, t}$$\n",
        "\n",
        "Where $k = D\\frac{\\Delta t}{\\Delta x^2}$\n",
        "\n",
        "Therefore, we get the coefficient of $u_{x, y, t}$ as $\\Big(1 - 4D \\frac{\\Delta t}{\\Delta x^2}\\Big)$\n",
        "\n",
        "For the process to become unstable, the coefficient must fall below zero.\n",
        "\n",
        "Hence, for the process to be unstable, the time step must be\n",
        "$$ \\Delta t \\leq \\frac{x^2}{4D}$$"
      ],
      "metadata": {
        "id": "gU2OH5oUxq7H"
      }
    },
    {
      "cell_type": "markdown",
      "source": [
        ""
      ],
      "metadata": {
        "id": "72j3RUtkxrAx"
      }
    }
  ]
}