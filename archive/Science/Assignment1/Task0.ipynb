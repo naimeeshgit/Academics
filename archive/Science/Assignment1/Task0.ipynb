{
 "cells": [
  {
   "cell_type": "code",
   "execution_count": 28,
   "metadata": {},
   "outputs": [],
   "source": [
    "import numpy as np\n",
    "from matplotlib import pyplot as plt\n",
    "from numpy import random"
   ]
  },
  {
   "cell_type": "code",
   "execution_count": 29,
   "metadata": {},
   "outputs": [
    {
     "name": "stdout",
     "output_type": "stream",
     "text": [
      "[-1  0  1  0  1  0 -1 -2 -1 -2]\n"
     ]
    }
   ],
   "source": [
    "n = 10 \n",
    "list = np.empty([n],dtype = int)\n",
    "# int(input())\n",
    "x=0\n",
    "\n",
    "for i in range(n):\n",
    "    step = random.random()\n",
    "    if step < 0.5:\n",
    "        x = x-1\n",
    "    else:\n",
    "        x = x+1\n",
    "    # list.append(x)\n",
    "    list[i] = x\n",
    "print(list)\n",
    "\n",
    "\n",
    "     "
   ]
  }
 ],
 "metadata": {
  "interpreter": {
   "hash": "916dbcbb3f70747c44a77c7bcd40155683ae19c65e1c03b4aa3499c5328201f1"
  },
  "kernelspec": {
   "display_name": "Python 3.9.7 64-bit",
   "language": "python",
   "name": "python3"
  },
  "language_info": {
   "codemirror_mode": {
    "name": "ipython",
    "version": 3
   },
   "file_extension": ".py",
   "mimetype": "text/x-python",
   "name": "python",
   "nbconvert_exporter": "python",
   "pygments_lexer": "ipython3",
   "version": "3.9.7"
  },
  "orig_nbformat": 4
 },
 "nbformat": 4,
 "nbformat_minor": 2
}
